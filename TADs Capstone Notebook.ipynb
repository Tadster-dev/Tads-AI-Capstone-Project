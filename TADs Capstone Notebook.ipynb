{
    "cells": [
        {
            "cell_type": "markdown",
            "metadata": {
                "button": false,
                "new_sheet": false,
                "run_control": {
                    "read_only": false
                }
            },
            "source": "<a href=\"https://cognitiveclass.ai\"><img src = \"https://s3-api.us-geo.objectstorage.softlayer.net/cf-courses-data/CognitiveClass/Logos/organization_logo/organization_logo.png\" width = 400> </a>\n\n<h1 align=center><font size = 5>Peer Review Final Assignment</font></h1>"
        },
        {
            "cell_type": "markdown",
            "metadata": {
                "button": false,
                "new_sheet": false,
                "run_control": {
                    "read_only": false
                }
            },
            "source": "## Introduction\n"
        },
        {
            "cell_type": "markdown",
            "metadata": {
                "button": false,
                "new_sheet": false,
                "run_control": {
                    "read_only": false
                }
            },
            "source": "In this lab, you will build an image classifier using the VGG16 pre-trained model, and you will evaluate it and compare its performance to the model we built in the last module using the ResNet50 pre-trained model. Good luck!"
        },
        {
            "cell_type": "markdown",
            "metadata": {
                "button": false,
                "new_sheet": false,
                "run_control": {
                    "read_only": false
                }
            },
            "source": "## Table of Contents\n\n<div class=\"alert alert-block alert-info\" style=\"margin-top: 20px\">\n\n<font size = 3>    \n\n1. <a href=\"#item41\">Download Data \n2. <a href=\"#item42\">Part 1</a>\n3. <a href=\"#item43\">Part 2</a>  \n4. <a href=\"#item44\">Part 3</a>  \n\n</font>\n    \n</div>"
        },
        {
            "cell_type": "markdown",
            "metadata": {
                "button": false,
                "new_sheet": false,
                "run_control": {
                    "read_only": false
                }
            },
            "source": "   "
        },
        {
            "cell_type": "markdown",
            "metadata": {},
            "source": "<a id=\"item41\"></a>"
        },
        {
            "cell_type": "markdown",
            "metadata": {},
            "source": "## Download Data"
        },
        {
            "cell_type": "markdown",
            "metadata": {},
            "source": "Use the <code>wget</code> command to download the data for this assignment from here: https://s3-api.us-geo.objectstorage.softlayer.net/cf-courses-data/CognitiveClass/DL0321EN/data/concrete_data_week4.zip"
        },
        {
            "cell_type": "markdown",
            "metadata": {},
            "source": "Use the following cells to download the data."
        },
        {
            "cell_type": "code",
            "execution_count": 2,
            "metadata": {},
            "outputs": [
                {
                    "name": "stdout",
                    "output_type": "stream",
                    "text": "--2020-05-17 15:47:13--  https://s3-api.us-geo.objectstorage.softlayer.net/cf-courses-data/CognitiveClass/DL0321EN/data/concrete_data_week4.zip\nResolving s3-api.us-geo.objectstorage.softlayer.net (s3-api.us-geo.objectstorage.softlayer.net)... 67.228.254.196\nConnecting to s3-api.us-geo.objectstorage.softlayer.net (s3-api.us-geo.objectstorage.softlayer.net)|67.228.254.196|:443... connected.\nHTTP request sent, awaiting response... 200 OK\nLength: 261483817 (249M) [application/zip]\nSaving to: \u2018concrete_data_week4.zip.2\u2019\n\n100%[======================================>] 261,483,817 39.7MB/s   in 6.3s   \n\n2020-05-17 15:47:19 (39.5 MB/s) - \u2018concrete_data_week4.zip.2\u2019 saved [261483817/261483817]\n\n"
                }
            ],
            "source": "!wget https://s3-api.us-geo.objectstorage.softlayer.net/cf-courses-data/CognitiveClass/DL0321EN/data/concrete_data_week4.zip"
        },
        {
            "cell_type": "code",
            "execution_count": 7,
            "metadata": {},
            "outputs": [
                {
                    "name": "stdout",
                    "output_type": "stream",
                    "text": "Archive:  concrete_data_week4.zip\nreplace concrete_data_week4/valid/positive/16679_1.jpg? [y]es, [n]o, [A]ll, [N]one, [r]ename: ^C\n"
                }
            ],
            "source": "# !unzip concrete_data_week4.zip"
        },
        {
            "cell_type": "markdown",
            "metadata": {},
            "source": "After you unzip the data, you fill find the data has already been divided into a train, validation, and test sets."
        },
        {
            "cell_type": "markdown",
            "metadata": {},
            "source": "  "
        },
        {
            "cell_type": "markdown",
            "metadata": {
                "button": false,
                "new_sheet": false,
                "run_control": {
                    "read_only": false
                }
            },
            "source": "<a id=\"item42\"></a>"
        },
        {
            "cell_type": "markdown",
            "metadata": {},
            "source": "## Part 1"
        },
        {
            "cell_type": "markdown",
            "metadata": {},
            "source": "In this part, you will design a classifier using the VGG16 pre-trained model. Just like the ResNet50 model, you can import the model <code>VGG16</code> from <code>keras.applications</code>."
        },
        {
            "cell_type": "markdown",
            "metadata": {},
            "source": "You will essentially build your classifier as follows:\n1. Import libraries, modules, and packages you will need. Make sure to import the *preprocess_input* function from <code>keras.applications.vgg16</code>.\n2. Use a batch size of 100 images for both training and validation.\n3. Construct an ImageDataGenerator for the training set and another one for the validation set. VGG16 was originally trained on 224 \u00d7 224 images, so make sure to address that when defining the ImageDataGenerator instances.\n4. Create a sequential model using Keras. Add VGG16 model to it and dense layer.\n5. Compile the mode using the adam optimizer and the categorical_crossentropy loss function.\n6. Fit the model on the augmented data using the ImageDataGenerators."
        },
        {
            "cell_type": "markdown",
            "metadata": {},
            "source": "Use the following cells to create your classifier."
        },
        {
            "cell_type": "markdown",
            "metadata": {},
            "source": "## Load the necessary libraries and packages"
        },
        {
            "cell_type": "code",
            "execution_count": 8,
            "metadata": {},
            "outputs": [
                {
                    "name": "stderr",
                    "output_type": "stream",
                    "text": "Using TensorFlow backend.\n"
                }
            ],
            "source": "from keras.preprocessing.image import ImageDataGenerator"
        },
        {
            "cell_type": "code",
            "execution_count": 9,
            "metadata": {},
            "outputs": [],
            "source": "import keras\nfrom keras.models import Sequential\nfrom keras.layers import Dense"
        },
        {
            "cell_type": "code",
            "execution_count": 10,
            "metadata": {
                "scrolled": true
            },
            "outputs": [],
            "source": "from keras.applications import ResNet50\nfrom keras.applications.resnet50 import preprocess_input"
        },
        {
            "cell_type": "code",
            "execution_count": 11,
            "metadata": {},
            "outputs": [],
            "source": "from keras.applications import VGG16\nfrom keras.applications.vgg16 import preprocess_input"
        },
        {
            "cell_type": "markdown",
            "metadata": {},
            "source": "## Set the GLOBAL variables"
        },
        {
            "cell_type": "code",
            "execution_count": 12,
            "metadata": {},
            "outputs": [],
            "source": "num_classes = 2\n\nimage_resize = 224\n\nbatch_size_training = 100\nbatch_size_validation = 100\n"
        },
        {
            "cell_type": "markdown",
            "metadata": {},
            "source": "## Build and Compile"
        },
        {
            "cell_type": "code",
            "execution_count": 13,
            "metadata": {},
            "outputs": [],
            "source": "data_generator = ImageDataGenerator(\n    preprocessing_function=preprocess_input,\n)"
        },
        {
            "cell_type": "code",
            "execution_count": 14,
            "metadata": {},
            "outputs": [
                {
                    "name": "stdout",
                    "output_type": "stream",
                    "text": "Found 30001 images belonging to 2 classes.\n"
                }
            ],
            "source": "train_generator = data_generator.flow_from_directory(\n    'concrete_data_week4/train',\n    target_size=(image_resize, image_resize),\n    batch_size=batch_size_training,\n    class_mode='categorical')"
        },
        {
            "cell_type": "code",
            "execution_count": 15,
            "metadata": {},
            "outputs": [
                {
                    "name": "stdout",
                    "output_type": "stream",
                    "text": "Found 9501 images belonging to 2 classes.\n"
                }
            ],
            "source": "validation_generator = data_generator.flow_from_directory(\n    'concrete_data_week4/valid',\n    target_size=(image_resize, image_resize),\n    batch_size=batch_size_validation,\n    class_mode='categorical')\n"
        },
        {
            "cell_type": "code",
            "execution_count": 16,
            "metadata": {},
            "outputs": [],
            "source": "model = Sequential()"
        },
        {
            "cell_type": "code",
            "execution_count": 17,
            "metadata": {},
            "outputs": [
                {
                    "name": "stdout",
                    "output_type": "stream",
                    "text": "WARNING:tensorflow:From /opt/conda/envs/Python36/lib/python3.6/site-packages/tensorflow/python/framework/op_def_library.py:263: colocate_with (from tensorflow.python.framework.ops) is deprecated and will be removed in a future version.\nInstructions for updating:\nColocations handled automatically by placer.\n"
                }
            ],
            "source": "model.add(VGG16(\n    include_top=False,\n    pooling='avg',\n    weights='imagenet',\n    ))"
        },
        {
            "cell_type": "code",
            "execution_count": 18,
            "metadata": {},
            "outputs": [],
            "source": "model.add(Dense(num_classes, activation='softmax'))"
        },
        {
            "cell_type": "code",
            "execution_count": 19,
            "metadata": {},
            "outputs": [
                {
                    "data": {
                        "text/plain": "[<keras.engine.training.Model at 0x7f741cc68c50>,\n <keras.layers.core.Dense at 0x7f741cded6a0>]"
                    },
                    "execution_count": 19,
                    "metadata": {},
                    "output_type": "execute_result"
                }
            ],
            "source": "model.layers"
        },
        {
            "cell_type": "code",
            "execution_count": 20,
            "metadata": {},
            "outputs": [
                {
                    "data": {
                        "text/plain": "[<keras.engine.input_layer.InputLayer at 0x7f741cded5c0>,\n <keras.layers.convolutional.Conv2D at 0x7f741cdedb38>,\n <keras.layers.convolutional.Conv2D at 0x7f741cded940>,\n <keras.layers.pooling.MaxPooling2D at 0x7f741ce4e860>,\n <keras.layers.convolutional.Conv2D at 0x7f741ce4e3c8>,\n <keras.layers.convolutional.Conv2D at 0x7f741ce14390>,\n <keras.layers.pooling.MaxPooling2D at 0x7f741c429c88>,\n <keras.layers.convolutional.Conv2D at 0x7f741c429748>,\n <keras.layers.convolutional.Conv2D at 0x7f741c576470>,\n <keras.layers.convolutional.Conv2D at 0x7f741cdb3b00>,\n <keras.layers.pooling.MaxPooling2D at 0x7f741cd65780>,\n <keras.layers.convolutional.Conv2D at 0x7f741cd65240>,\n <keras.layers.convolutional.Conv2D at 0x7f741cd97400>,\n <keras.layers.convolutional.Conv2D at 0x7f741cd35a58>,\n <keras.layers.pooling.MaxPooling2D at 0x7f741cd51e80>,\n <keras.layers.convolutional.Conv2D at 0x7f741cd51ba8>,\n <keras.layers.convolutional.Conv2D at 0x7f741cd02cf8>,\n <keras.layers.convolutional.Conv2D at 0x7f741cc9ee80>,\n <keras.layers.pooling.MaxPooling2D at 0x7f741cccf6a0>,\n <keras.layers.pooling.GlobalAveragePooling2D at 0x7f741cccf630>]"
                    },
                    "execution_count": 20,
                    "metadata": {},
                    "output_type": "execute_result"
                }
            ],
            "source": "model.layers[0].layers"
        },
        {
            "cell_type": "code",
            "execution_count": 21,
            "metadata": {},
            "outputs": [],
            "source": "model.layers[0].trainable = False"
        },
        {
            "cell_type": "code",
            "execution_count": 22,
            "metadata": {},
            "outputs": [
                {
                    "name": "stdout",
                    "output_type": "stream",
                    "text": "_________________________________________________________________\nLayer (type)                 Output Shape              Param #   \n=================================================================\nvgg16 (Model)                (None, 512)               14714688  \n_________________________________________________________________\ndense_1 (Dense)              (None, 2)                 1026      \n=================================================================\nTotal params: 14,715,714\nTrainable params: 1,026\nNon-trainable params: 14,714,688\n_________________________________________________________________\n"
                }
            ],
            "source": "model.summary()"
        },
        {
            "cell_type": "code",
            "execution_count": 23,
            "metadata": {},
            "outputs": [],
            "source": "model.compile(optimizer='adam', loss='categorical_crossentropy', metrics=['accuracy'])"
        },
        {
            "cell_type": "markdown",
            "metadata": {},
            "source": "## Fit the Model\n\n"
        },
        {
            "cell_type": "code",
            "execution_count": 24,
            "metadata": {},
            "outputs": [],
            "source": "num_epochs = 2\nsteps_per_epoch_training = 10\nsteps_per_epoch_validation = 5"
        },
        {
            "cell_type": "code",
            "execution_count": 25,
            "metadata": {},
            "outputs": [
                {
                    "name": "stdout",
                    "output_type": "stream",
                    "text": "WARNING:tensorflow:From /opt/conda/envs/Python36/lib/python3.6/site-packages/tensorflow/python/ops/math_ops.py:3066: to_int32 (from tensorflow.python.ops.math_ops) is deprecated and will be removed in a future version.\nInstructions for updating:\nUse tf.cast instead.\nEpoch 1/2\n10/10 [==============================] - 534s 53s/step - loss: 0.7609 - acc: 0.5270 - val_loss: 0.5658 - val_acc: 0.6560\nEpoch 2/2\n10/10 [==============================] - 533s 53s/step - loss: 0.4334 - acc: 0.7960 - val_loss: 0.2891 - val_acc: 0.9180\n"
                }
            ],
            "source": "VGG16_model = model.fit_generator(\n    train_generator,\n    steps_per_epoch=steps_per_epoch_training,\n    epochs=num_epochs,\n    validation_data=validation_generator,\n    validation_steps=steps_per_epoch_validation,\n    verbose=1,\n)"
        },
        {
            "cell_type": "markdown",
            "metadata": {},
            "source": "## Save the model for later use"
        },
        {
            "cell_type": "code",
            "execution_count": 26,
            "metadata": {},
            "outputs": [],
            "source": "model.save('classifier_vgg16_model.h5')"
        },
        {
            "cell_type": "markdown",
            "metadata": {},
            "source": "   "
        },
        {
            "cell_type": "markdown",
            "metadata": {},
            "source": "<a id=\"item43\"></a>"
        },
        {
            "cell_type": "markdown",
            "metadata": {},
            "source": "## Part 2"
        },
        {
            "cell_type": "markdown",
            "metadata": {},
            "source": "In this part, you will evaluate your deep learning models on a test data. For this part, you will need to do the following:\n\n1. Load your saved model that was built using the ResNet50 model. \n2. Construct an ImageDataGenerator for the test set. For this ImageDataGenerator instance, you only need to pass the directory of the test images, target size, and the **shuffle** parameter and set it to False.\n3. Use the **evaluate_generator** method to evaluate your models on the test data, by passing the above ImageDataGenerator as an argument. You can learn more about **evaluate_generator** [here](https://keras.io/models/sequential/).\n4. Print the performance of the classifier using the VGG16 pre-trained model.\n5. Print the performance of the classifier using the ResNet pre-trained model.\n"
        },
        {
            "cell_type": "markdown",
            "metadata": {},
            "source": "Use the following cells to evaluate your models."
        },
        {
            "cell_type": "code",
            "execution_count": 27,
            "metadata": {},
            "outputs": [
                {
                    "name": "stdout",
                    "output_type": "stream",
                    "text": "_________________________________________________________________\nLayer (type)                 Output Shape              Param #   \n=================================================================\nresnet50 (Model)             (None, 2048)              23587712  \n_________________________________________________________________\ndense_1 (Dense)              (None, 2)                 4098      \n=================================================================\nTotal params: 23,591,810\nTrainable params: 23,538,690\nNon-trainable params: 53,120\n_________________________________________________________________\n"
                },
                {
                    "name": "stderr",
                    "output_type": "stream",
                    "text": "/opt/conda/envs/Python36/lib/python3.6/site-packages/keras/engine/saving.py:327: UserWarning: Error in loading the saved optimizer state. As a result, your model is starting with a freshly initialized optimizer.\n  warnings.warn('Error in loading the saved optimizer '\n"
                }
            ],
            "source": "from keras.models import load_model\n\nmodel_RN50 = load_model('classifier_resnet_model.h5')\n# summarize model.\nmodel_RN50.summary()"
        },
        {
            "cell_type": "code",
            "execution_count": 28,
            "metadata": {},
            "outputs": [
                {
                    "name": "stdout",
                    "output_type": "stream",
                    "text": "Found 500 images belonging to 2 classes.\n"
                }
            ],
            "source": "test_generator = data_generator.flow_from_directory(\n    'concrete_data_week4/test',\n    target_size=(image_resize, image_resize),\n    batch_size=20,\n    shuffle = False)"
        },
        {
            "cell_type": "markdown",
            "metadata": {},
            "source": "## ResNet50 test evaluation"
        },
        {
            "cell_type": "code",
            "execution_count": 29,
            "metadata": {},
            "outputs": [
                {
                    "name": "stdout",
                    "output_type": "stream",
                    "text": "5/5 [==============================] - 57s 11s/step\nacc: 84.00%\n"
                }
            ],
            "source": "score = model.evaluate_generator(test_generator, verbose=1, steps=5)\nprint(\"%s: %.2f%%\" % (model.metrics_names[1], score[1]*100))"
        },
        {
            "cell_type": "markdown",
            "metadata": {},
            "source": "## VGG16 test evaluation"
        },
        {
            "cell_type": "code",
            "execution_count": 30,
            "metadata": {},
            "outputs": [
                {
                    "name": "stdout",
                    "output_type": "stream",
                    "text": "_________________________________________________________________\nLayer (type)                 Output Shape              Param #   \n=================================================================\nvgg16 (Model)                (None, 512)               14714688  \n_________________________________________________________________\ndense_1 (Dense)              (None, 2)                 1026      \n=================================================================\nTotal params: 14,715,714\nTrainable params: 14,715,714\nNon-trainable params: 0\n_________________________________________________________________\n"
                }
            ],
            "source": "model_VGG16 = load_model('classifier_vgg16_model.h5')\n# summarize model.\nmodel_VGG16.summary()"
        },
        {
            "cell_type": "code",
            "execution_count": 31,
            "metadata": {},
            "outputs": [
                {
                    "name": "stdout",
                    "output_type": "stream",
                    "text": "5/5 [==============================] - 58s 12s/step\nacc: 92.00%\n"
                }
            ],
            "source": "score = model.evaluate_generator(test_generator, verbose=1, steps=5)\nprint(\"%s: %.2f%%\" % (model.metrics_names[1], score[1]*100))"
        },
        {
            "cell_type": "markdown",
            "metadata": {},
            "source": "## Discussion\n\nResNet50 reported an 84% accuracy\nVGG16 reported a 92% accuracy\n\n"
        },
        {
            "cell_type": "markdown",
            "metadata": {},
            "source": "   "
        },
        {
            "cell_type": "markdown",
            "metadata": {},
            "source": "<a id=\"item44\"></a>"
        },
        {
            "cell_type": "markdown",
            "metadata": {},
            "source": "## Part 3"
        },
        {
            "cell_type": "markdown",
            "metadata": {},
            "source": "In this model, you will predict whether the images in the test data are images of cracked concrete or not. You will do the following:\n\n1. Use the **predict_generator** method to predict the class of the images in the test data, by passing the test data ImageDataGenerator instance defined in the previous part as an argument. You can learn more about the **predict_generator** method [here](https://keras.io/models/sequential/).\n2. Report the class predictions of the first five images in the test set. You should print something list this:\n\n<center>\n    <ul style=\"list-style-type:none\">\n        <li>Positive</li>  \n        <li>Negative</li> \n        <li>Positive</li>\n        <li>Positive</li>\n        <li>Negative</li>\n    </ul>\n</center>"
        },
        {
            "cell_type": "markdown",
            "metadata": {},
            "source": "Use the following cells to make your predictions."
        },
        {
            "cell_type": "code",
            "execution_count": 32,
            "metadata": {},
            "outputs": [],
            "source": "predict = model.predict_generator(test_generator,5)"
        },
        {
            "cell_type": "markdown",
            "metadata": {},
            "source": "## Look at the predict data and run report as requested"
        },
        {
            "cell_type": "code",
            "execution_count": 33,
            "metadata": {},
            "outputs": [
                {
                    "data": {
                        "text/html": "<div>\n<style scoped>\n    .dataframe tbody tr th:only-of-type {\n        vertical-align: middle;\n    }\n\n    .dataframe tbody tr th {\n        vertical-align: top;\n    }\n\n    .dataframe thead th {\n        text-align: right;\n    }\n</style>\n<table border=\"1\" class=\"dataframe\">\n  <thead>\n    <tr style=\"text-align: right;\">\n      <th></th>\n      <th>0</th>\n      <th>1</th>\n    </tr>\n  </thead>\n  <tbody>\n    <tr>\n      <th>0</th>\n      <td>0.796342</td>\n      <td>0.203657</td>\n    </tr>\n    <tr>\n      <th>1</th>\n      <td>0.910927</td>\n      <td>0.089073</td>\n    </tr>\n    <tr>\n      <th>2</th>\n      <td>0.820921</td>\n      <td>0.179079</td>\n    </tr>\n    <tr>\n      <th>3</th>\n      <td>0.407363</td>\n      <td>0.592637</td>\n    </tr>\n    <tr>\n      <th>4</th>\n      <td>0.644152</td>\n      <td>0.355848</td>\n    </tr>\n  </tbody>\n</table>\n</div>",
                        "text/plain": "          0         1\n0  0.796342  0.203657\n1  0.910927  0.089073\n2  0.820921  0.179079\n3  0.407363  0.592637\n4  0.644152  0.355848"
                    },
                    "execution_count": 33,
                    "metadata": {},
                    "output_type": "execute_result"
                }
            ],
            "source": "import pandas as pd\ndfpredict = pd.DataFrame(predict)\ndfpredict.head()"
        },
        {
            "cell_type": "code",
            "execution_count": 34,
            "metadata": {},
            "outputs": [
                {
                    "name": "stdout",
                    "output_type": "stream",
                    "text": "Negative\nNegative\nNegative\nPositive\nNegative\n"
                }
            ],
            "source": "x = 0\nfor x in range (5):\n    if predict[x,0] > .50: # if negative prediction greater than .5 declare as negative image\n        print(\"Negative\")\n    else:\n        print(\"Positive\")\n       \n              "
        },
        {
            "cell_type": "markdown",
            "metadata": {},
            "source": "  "
        },
        {
            "cell_type": "markdown",
            "metadata": {
                "button": false,
                "new_sheet": false,
                "run_control": {
                    "read_only": false
                }
            },
            "source": "### Thank you for completing this lab!\n\nThis notebook was created by Alex Aklson."
        },
        {
            "cell_type": "markdown",
            "metadata": {
                "button": false,
                "new_sheet": false,
                "run_control": {
                    "read_only": false
                }
            },
            "source": "This notebook is part of a course on **Coursera** called *AI Capstone Project with Deep Learning*. If you accessed this notebook outside the course, you can take this course online by clicking [here](https://cocl.us/DL0321EN_Coursera_Week4_LAB1)."
        },
        {
            "cell_type": "markdown",
            "metadata": {
                "button": false,
                "new_sheet": false,
                "run_control": {
                    "read_only": false
                }
            },
            "source": "<hr>\n\nCopyright &copy; 2020 [IBM Developer Skills Network](https://cognitiveclass.ai/?utm_source=bducopyrightlink&utm_medium=dswb&utm_campaign=bdu). This notebook and its source code are released under the terms of the [MIT License](https://bigdatauniversity.com/mit-license/)."
        }
    ],
    "metadata": {
        "kernelspec": {
            "display_name": "Python 3.6",
            "language": "python",
            "name": "python3"
        },
        "language_info": {
            "codemirror_mode": {
                "name": "ipython",
                "version": 3
            },
            "file_extension": ".py",
            "mimetype": "text/x-python",
            "name": "python",
            "nbconvert_exporter": "python",
            "pygments_lexer": "ipython3",
            "version": "3.6.9"
        }
    },
    "nbformat": 4,
    "nbformat_minor": 4
}